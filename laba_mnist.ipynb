{
 "cells": [
  {
   "cell_type": "code",
   "execution_count": 63,
   "id": "f2a3b2e9-c204-4900-8505-11e84842d1b6",
   "metadata": {
    "tags": []
   },
   "outputs": [],
   "source": [
    "import torchvision\n",
    "from torch import nn, optim\n",
    "from torchvision.datasets import MNIST\n",
    "from torchvision.transforms import Compose, ToTensor, Lambda\n",
    "from torch.utils.data import DataLoader\n",
    "from tqdm import tqdm"
   ]
  },
  {
   "cell_type": "code",
   "execution_count": 64,
   "id": "7e43c8df-0179-4bc8-bd2b-28c212c74cd3",
   "metadata": {
    "tags": []
   },
   "outputs": [],
   "source": [
    "transform = Compose([\n",
    "    ToTensor(),\n",
    "    Lambda(lambda image: image.view(784))\n",
    "])\n",
    "data_train = MNIST(root=\"./\",download=True,train=True,transform=transform)\n",
    "data_test = MNIST(root=\"./\",download=True,train=False,transform=transform)"
   ]
  },
  {
   "cell_type": "code",
   "execution_count": 65,
   "id": "043c2b7f-bc97-4390-95e6-6b3b534dfe59",
   "metadata": {
    "tags": []
   },
   "outputs": [
    {
     "data": {
      "text/plain": [
       "torch.Size([784])"
      ]
     },
     "execution_count": 65,
     "metadata": {},
     "output_type": "execute_result"
    }
   ],
   "source": [
    "data_train[0][0].size()"
   ]
  },
  {
   "cell_type": "code",
   "execution_count": 66,
   "id": "23bc7a21-e4cb-4839-a152-95e4737319af",
   "metadata": {
    "tags": []
   },
   "outputs": [],
   "source": [
    "class MNISTModel(nn.Module):\n",
    "    def __init__(self):\n",
    "        super().__init__()\n",
    "        self.layers = nn.Sequential(\n",
    "            nn.Linear(784,512),\n",
    "            nn.ReLU(),\n",
    "            # nn.Linear(512,512),\n",
    "            # nn.ReLU(),\n",
    "            nn.Linear(512,10)\n",
    "        )\n",
    "        self.loss = nn.CrossEntropyLoss()\n",
    "        self.optimizer = optim.Adam(self.parameters())\n",
    "\n",
    "    def forward(self,X):\n",
    "        return self.layers(X)\n",
    "\n",
    "    def predict(self,X):\n",
    "        with torch.no_grad():\n",
    "            return torch.argmax(self.forward(X),axis=-1)\n",
    "\n",
    "    def fit(self,X,Y):\n",
    "        self.optimizer.zero_grad()\n",
    "        y_pred = self.forward(X)\n",
    "        loss = self.loss(y_pred,Y)\n",
    "        loss.backward()\n",
    "        self.optimizer.step()\n",
    "        return loss.item()"
   ]
  },
  {
   "cell_type": "code",
   "execution_count": 67,
   "id": "b62ad382-132e-4628-bd86-c4b2b99e8be5",
   "metadata": {
    "tags": []
   },
   "outputs": [],
   "source": [
    "mnist_model = MNISTModel()"
   ]
  },
  {
   "cell_type": "code",
   "execution_count": 68,
   "id": "cf7a6838-44b7-40a8-b100-3114abd991cf",
   "metadata": {
    "tags": []
   },
   "outputs": [],
   "source": [
    "BATCH_SIZE = 16\n",
    "dataloader_train = DataLoader(data_train,batch_size=BATCH_SIZE,shuffle=True)\n",
    "dataloader_test = DataLoader(data_test,batch_size=BATCH_SIZE,shuffle=True)"
   ]
  },
  {
   "cell_type": "code",
   "execution_count": 69,
   "id": "82abf0eb-0f31-4a2a-ae1c-1d07fee7bbf4",
   "metadata": {
    "tags": []
   },
   "outputs": [
    {
     "name": "stderr",
     "output_type": "stream",
     "text": [
      "FITTING EPOCH 0: 100%|██████████| 3750/3750 [00:15<00:00, 241.54it/s]\n"
     ]
    },
    {
     "name": "stdout",
     "output_type": "stream",
     "text": [
      "EPOCH 0: 0.2003\n"
     ]
    },
    {
     "name": "stderr",
     "output_type": "stream",
     "text": [
      "FITTING EPOCH 1: 100%|██████████| 3750/3750 [00:17<00:00, 219.57it/s]\n"
     ]
    },
    {
     "name": "stdout",
     "output_type": "stream",
     "text": [
      "EPOCH 1: 0.0807\n"
     ]
    },
    {
     "name": "stderr",
     "output_type": "stream",
     "text": [
      "FITTING EPOCH 2: 100%|██████████| 3750/3750 [00:17<00:00, 210.88it/s]\n"
     ]
    },
    {
     "name": "stdout",
     "output_type": "stream",
     "text": [
      "EPOCH 2: 0.0531\n"
     ]
    },
    {
     "name": "stderr",
     "output_type": "stream",
     "text": [
      "FITTING EPOCH 3: 100%|██████████| 3750/3750 [00:17<00:00, 211.95it/s]\n"
     ]
    },
    {
     "name": "stdout",
     "output_type": "stream",
     "text": [
      "EPOCH 3: 0.0393\n"
     ]
    },
    {
     "name": "stderr",
     "output_type": "stream",
     "text": [
      "FITTING EPOCH 4: 100%|██████████| 3750/3750 [00:17<00:00, 210.64it/s]"
     ]
    },
    {
     "name": "stdout",
     "output_type": "stream",
     "text": [
      "EPOCH 4: 0.0280\n"
     ]
    },
    {
     "name": "stderr",
     "output_type": "stream",
     "text": [
      "\n"
     ]
    }
   ],
   "source": [
    "EPOCHS = 5\n",
    "for i in range(EPOCHS):\n",
    "    total_loss = 0\n",
    "    for xs, ys in tqdm(dataloader_train,desc=f\"FITTING EPOCH {i}\"):\n",
    "        total_loss += mnist_model.fit(xs,ys)\n",
    "    total_loss /= len(dataloader_train)\n",
    "    print(f\"EPOCH {i}: {total_loss:.4f}\")"
   ]
  },
  {
   "cell_type": "code",
   "execution_count": 73,
   "id": "1d07a006-a741-4317-bc4f-41a485df106c",
   "metadata": {
    "tags": []
   },
   "outputs": [
    {
     "name": "stdout",
     "output_type": "stream",
     "text": [
      "ACCURACY: 0.9790999889373779\n"
     ]
    }
   ],
   "source": [
    "correct = 0\n",
    "for xs, ys in dataloader_test:\n",
    "    y_pred = mnist_model.predict(xs)\n",
    "    correct += (ys == y_pred).sum()\n",
    "acc = correct / (len(dataloader_test) * BATCH_SIZE)\n",
    "print(f\"ACCURACY: {acc}\")"
   ]
  },
  {
   "cell_type": "code",
   "execution_count": null,
   "id": "c25ca354-2bae-4955-a0e4-1da9fb804e6e",
   "metadata": {},
   "outputs": [],
   "source": []
  }
 ],
 "metadata": {
  "kernelspec": {
   "display_name": "Python 3 (ipykernel)",
   "language": "python",
   "name": "python3"
  },
  "language_info": {
   "codemirror_mode": {
    "name": "ipython",
    "version": 3
   },
   "file_extension": ".py",
   "mimetype": "text/x-python",
   "name": "python",
   "nbconvert_exporter": "python",
   "pygments_lexer": "ipython3",
   "version": "3.11.5"
  }
 },
 "nbformat": 4,
 "nbformat_minor": 5
}
